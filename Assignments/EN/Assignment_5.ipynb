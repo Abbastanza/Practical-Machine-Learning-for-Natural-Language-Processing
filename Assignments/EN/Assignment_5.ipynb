{
 "cells": [
  {
   "cell_type": "markdown",
   "metadata": {},
   "source": [
    "<img src=\"https://communications.univie.ac.at/fileadmin/_processed_/csm_Uni_Logo_2016_2f47aacf37.jpg\" \n",
    "     alt=\"Logo Universität Wien\" \n",
    "     width=\"200\"/>\n",
    "\n",
    "# Practical Machine Learning for Natural Language Processing - 2023 SS  \n",
    "\n",
    "### Assigment 1 - Python for Poets  \n",
    "\n",
    "This assigment is an adaptation for Python of the original exercise [\"Unix for Poets\"](https://www.cs.upc.edu/~padro/Unixforpoets.pdf)"
   ]
  },
  {
   "cell_type": "markdown",
   "metadata": {},
   "source": [
    "***"
   ]
  },
  {
   "cell_type": "markdown",
   "metadata": {},
   "source": [
    "### Loading the document"
   ]
  },
  {
   "cell_type": "code",
   "execution_count": 1,
   "metadata": {},
   "outputs": [
    {
     "name": "stdout",
     "output_type": "stream",
     "text": [
      "KBR said Friday the global economic downturn so far has\n",
      "had\n",
      "little effect on its business but warned some projects on its books\n",
      "could be in jeopardy if the headwinds persist into next year.\n",
      "\n",
      "\"With the economic outlook remaining uncertain, it is possible\n",
      "that\n",
      "customers may cancel or delay projects that are under way,\" said\n",
      "William\n",
      "Utt, chief executive of the Houston-based engineering and\n",
      "construction\n",
      "giant and government contractor.\n",
      "\n",
      "He did not predict how much of the company's $15.3billion in\n",
      "fu\n"
     ]
    }
   ],
   "source": [
    "with open(\"../../Data/txt/nyt_200811.txt\", \"r\") as f:\n",
    "    text = f.read()\n",
    "\n",
    "print(text[0:500])"
   ]
  },
  {
   "cell_type": "markdown",
   "metadata": {},
   "source": [
    "***"
   ]
  },
  {
   "cell_type": "markdown",
   "metadata": {},
   "source": [
    "### You will solve the following exercises using **Pure Python**  \n",
    "### (only packages \"string\" and \"re\" are allowed).  \n",
    "\n",
    "1. Count words in a text  \n",
    "2. Sort a list of words in various ways  \n",
    "   • ascii order   \n",
    "   • \"rhyming\" order   \n",
    "3. Extract useful info for a dictionary  \n",
    "4. Compute ngram statistics  \n",
    "5. Make a Concordance  "
   ]
  },
  {
   "cell_type": "markdown",
   "metadata": {},
   "source": [
    "***"
   ]
  },
  {
   "cell_type": "markdown",
   "metadata": {},
   "source": [
    "#### 1. Count words in a text\n",
    "\n",
    "a. Output a list of words in the file along with their frequency counts (ignoring case).   \n",
    "a. Count how many unique words there are (ignoring case).    \n",
    "c. Check how common are all different sequences of vowels (e.g. the sequences \"ieu\" or just \"e\" in \"lieutenant\")?"
   ]
  },
  {
   "cell_type": "code",
   "execution_count": 2,
   "metadata": {},
   "outputs": [
    {
     "data": {
      "text/plain": [
       "[('kbr', 22),\n",
       " ('said', 2204),\n",
       " ('friday', 63),\n",
       " ('the', 29333),\n",
       " ('global', 106),\n",
       " ('economic', 188),\n",
       " ('downturn', 20),\n",
       " ('so', 781),\n",
       " ('far', 149),\n",
       " ('has', 2166)]"
      ]
     },
     "execution_count": 2,
     "metadata": {},
     "output_type": "execute_result"
    }
   ],
   "source": [
    "# a) \n",
    "words=text.split()\n",
    "freq={}\n",
    "for word in words: \n",
    "    word=word.lower()\n",
    "    if word in freq:\n",
    "        freq[word]+=1\n",
    "    else:\n",
    "        freq[word]=1\n",
    "# print first 10 results:        \n",
    "list(freq.items())[0:10] "
   ]
  },
  {
   "cell_type": "code",
   "execution_count": 3,
   "metadata": {},
   "outputs": [
    {
     "data": {
      "text/plain": [
       "54176"
      ]
     },
     "execution_count": 3,
     "metadata": {},
     "output_type": "execute_result"
    }
   ],
   "source": [
    "# b)\n",
    "len(freq)"
   ]
  },
  {
   "cell_type": "code",
   "execution_count": 4,
   "metadata": {},
   "outputs": [
    {
     "data": {
      "text/plain": [
       "['ieu', 'e', 'a']"
      ]
     },
     "execution_count": 4,
     "metadata": {},
     "output_type": "execute_result"
    }
   ],
   "source": [
    "# c)\n",
    "import re \n",
    "reg=\"[aAeEiIoOu]+\"\n",
    "vowels=re.findall(reg, \"lieutenant\")\n",
    "vowels"
   ]
  },
  {
   "cell_type": "code",
   "execution_count": 5,
   "metadata": {},
   "outputs": [
    {
     "data": {
      "text/plain": [
       "[('ai', 10381),\n",
       " ('i', 128315),\n",
       " ('a', 165156),\n",
       " ('e', 239010),\n",
       " ('o', 132637),\n",
       " ('u', 33674),\n",
       " ('oo', 4948),\n",
       " ('ou', 16532),\n",
       " ('eo', 1561),\n",
       " ('ea', 14047),\n",
       " ('ia', 5259),\n",
       " ('ie', 6345),\n",
       " ('ee', 7914),\n",
       " ('io', 10369),\n",
       " ('ua', 1763),\n",
       " ('ui', 1520),\n",
       " ('au', 2136),\n",
       " ('I', 6787),\n",
       " ('ue', 2365),\n",
       " ('E', 2192),\n",
       " ('oi', 1978),\n",
       " ('ei', 3254),\n",
       " ('oa', 1608),\n",
       " ('A', 6783),\n",
       " ('Ea', 190),\n",
       " ('oe', 726),\n",
       " ('O', 3542),\n",
       " ('aii', 23),\n",
       " ('iu', 218),\n",
       " ('Ou', 69),\n",
       " ('IO', 49),\n",
       " ('eei', 59),\n",
       " ('oui', 60),\n",
       " ('Au', 176),\n",
       " ('iou', 505),\n",
       " ('ae', 204),\n",
       " ('eau', 131),\n",
       " ('EA', 54),\n",
       " ('ooooo', 1),\n",
       " ('ao', 68),\n",
       " ('Eu', 115),\n",
       " ('eu', 301),\n",
       " ('Ei', 32),\n",
       " ('aeu', 25),\n",
       " ('Ai', 72),\n",
       " ('II', 50),\n",
       " ('uie', 44),\n",
       " ('uea', 7),\n",
       " ('AA', 25),\n",
       " ('eA', 3),\n",
       " ('uo', 79),\n",
       " ('ioia', 4),\n",
       " ('uee', 56),\n",
       " ('ieu', 19),\n",
       " ('eou', 60),\n",
       " ('Oa', 34),\n",
       " ('aa', 41),\n",
       " ('eea', 1),\n",
       " ('Io', 45),\n",
       " ('Aa', 15),\n",
       " ('aiia', 7),\n",
       " ('IA', 61),\n",
       " ('OO', 16),\n",
       " ('uou', 22),\n",
       " ('AI', 64),\n",
       " ('IE', 30),\n",
       " ('EE', 18),\n",
       " ('ii', 10),\n",
       " ('oao', 1),\n",
       " ('ooe', 6),\n",
       " ('OE', 7),\n",
       " ('EO', 18),\n",
       " ('oeu', 2),\n",
       " ('AE', 5),\n",
       " ('EEI', 1),\n",
       " ('ooi', 5),\n",
       " ('eia', 2),\n",
       " ('aea', 1),\n",
       " ('uai', 7),\n",
       " ('EI', 6),\n",
       " ('ioa', 1),\n",
       " ('oue', 2),\n",
       " ('Oi', 19),\n",
       " ('eie', 3),\n",
       " ('ueui', 1),\n",
       " ('uu', 10),\n",
       " ('III', 10),\n",
       " ('eeee', 1),\n",
       " ('ooie', 1),\n",
       " ('oA', 1),\n",
       " ('Eee', 1),\n",
       " ('Ao', 1),\n",
       " ('Ee', 1),\n",
       " ('OI', 8),\n",
       " ('Ia', 10),\n",
       " ('iia', 1),\n",
       " ('ioe', 2),\n",
       " ('oia', 5),\n",
       " ('aee', 1),\n",
       " ('oei', 7),\n",
       " ('OA', 5),\n",
       " ('iai', 2),\n",
       " ('uoi', 2),\n",
       " ('Ae', 7),\n",
       " ('Ooo', 1),\n",
       " ('eai', 1),\n",
       " ('oau', 1),\n",
       " ('aoui', 1),\n",
       " ('aeo', 1),\n",
       " ('ooo', 1),\n",
       " ('oI', 1),\n",
       " ('oua', 1),\n",
       " ('aou', 3),\n",
       " ('eoi', 3),\n",
       " ('AO', 1),\n",
       " ('ueu', 2)]"
      ]
     },
     "execution_count": 5,
     "metadata": {},
     "output_type": "execute_result"
    }
   ],
   "source": [
    "# case-sensitive:\n",
    "freq2={}\n",
    "for word in words: \n",
    "    for v in re.findall(reg, word):\n",
    "        if v in freq2:\n",
    "            freq2[v]+=1\n",
    "        else:\n",
    "            freq2[v]=1\n",
    "# print first 10 results:            \n",
    "list(freq2.items())"
   ]
  },
  {
   "cell_type": "code",
   "execution_count": 6,
   "metadata": {},
   "outputs": [
    {
     "data": {
      "text/plain": [
       "[('ai', 10517),\n",
       " ('i', 135093),\n",
       " ('a', 171903),\n",
       " ('e', 241185),\n",
       " ('o', 136127),\n",
       " ('u', 34958),\n",
       " ('oo', 4964),\n",
       " ('ou', 16651),\n",
       " ('eo', 1578),\n",
       " ('ea', 14294),\n",
       " ('ia', 5330),\n",
       " ('ie', 6375),\n",
       " ('ee', 7933),\n",
       " ('io', 10462),\n",
       " ('ua', 1773),\n",
       " ('ui', 1527),\n",
       " ('au', 2338),\n",
       " ('ue', 2376),\n",
       " ('oi', 2006),\n",
       " ('ei', 3292),\n",
       " ('oa', 1648),\n",
       " ('oe', 733),\n",
       " ('aii', 23),\n",
       " ('iu', 218),\n",
       " ('eei', 60),\n",
       " ('oui', 62),\n",
       " ('iou', 506),\n",
       " ('ae', 216),\n",
       " ('eau', 131),\n",
       " ('ooooo', 1),\n",
       " ('ao', 70),\n",
       " ('eu', 422),\n",
       " ('aeu', 25),\n",
       " ('ii', 60),\n",
       " ('uie', 44),\n",
       " ('uea', 7),\n",
       " ('aa', 81),\n",
       " ('uo', 79),\n",
       " ('ioia', 4),\n",
       " ('uee', 56),\n",
       " ('ieu', 19),\n",
       " ('eou', 61),\n",
       " ('eea', 1),\n",
       " ('aiia', 7),\n",
       " ('uou', 22),\n",
       " ('oao', 1),\n",
       " ('ooe', 6),\n",
       " ('oeu', 2),\n",
       " ('ooi', 5),\n",
       " ('eia', 2),\n",
       " ('aea', 1),\n",
       " ('uai', 7),\n",
       " ('ioa', 1),\n",
       " ('oue', 2),\n",
       " ('eie', 3),\n",
       " ('ueui', 1),\n",
       " ('uu', 10),\n",
       " ('iii', 10),\n",
       " ('eeee', 1),\n",
       " ('ooie', 1),\n",
       " ('eee', 1),\n",
       " ('iia', 1),\n",
       " ('ioe', 2),\n",
       " ('oia', 5),\n",
       " ('aee', 1),\n",
       " ('oei', 7),\n",
       " ('iai', 2),\n",
       " ('uoi', 2),\n",
       " ('ooo', 2),\n",
       " ('eai', 1),\n",
       " ('oau', 1),\n",
       " ('aoui', 1),\n",
       " ('aeo', 1),\n",
       " ('oua', 1),\n",
       " ('aou', 3),\n",
       " ('eoi', 3),\n",
       " ('ueu', 2)]"
      ]
     },
     "execution_count": 6,
     "metadata": {},
     "output_type": "execute_result"
    }
   ],
   "source": [
    "# case-insensitive:\n",
    "freq2={}\n",
    "for word, count in freq.items(): \n",
    "    for v in re.findall(reg, word):\n",
    "        if v in freq2:\n",
    "            freq2[v]+=count\n",
    "        else:\n",
    "            freq2[v]=count\n",
    "# print first 10 results:            \n",
    "list(freq2.items())"
   ]
  },
  {
   "cell_type": "markdown",
   "metadata": {},
   "source": [
    "#### 2. Sorting and reversing lines of text\n",
    "\n",
    "a. Sort each line alphabetically (ignoring case).  \n",
    "b. Sort in numeric ([ascii](https://python-reference.readthedocs.io/en/latest/docs/str/ASCII.html)) order.  \n",
    "c. Alphabetically reverse sort (ignoring case).  \n",
    "d. Sort in reverse numeric ([ascii](https://python-reference.readthedocs.io/en/latest/docs/str/ASCII.html)) order.  "
   ]
  },
  {
   "cell_type": "code",
   "execution_count": 7,
   "metadata": {},
   "outputs": [
    {
     "data": {
      "text/plain": [
       "[['downturn',\n",
       "  'economic',\n",
       "  'far',\n",
       "  'Friday',\n",
       "  'global',\n",
       "  'has',\n",
       "  'KBR',\n",
       "  'said',\n",
       "  'so',\n",
       "  'the'],\n",
       " ['had'],\n",
       " ['books',\n",
       "  'business',\n",
       "  'but',\n",
       "  'effect',\n",
       "  'its',\n",
       "  'its',\n",
       "  'little',\n",
       "  'on',\n",
       "  'on',\n",
       "  'projects',\n",
       "  'some',\n",
       "  'warned'],\n",
       " ['be',\n",
       "  'could',\n",
       "  'headwinds',\n",
       "  'if',\n",
       "  'in',\n",
       "  'into',\n",
       "  'jeopardy',\n",
       "  'next',\n",
       "  'persist',\n",
       "  'the',\n",
       "  'year.'],\n",
       " [],\n",
       " ['\"With',\n",
       "  'economic',\n",
       "  'is',\n",
       "  'it',\n",
       "  'outlook',\n",
       "  'possible',\n",
       "  'remaining',\n",
       "  'the',\n",
       "  'uncertain,'],\n",
       " ['that'],\n",
       " ['are',\n",
       "  'cancel',\n",
       "  'customers',\n",
       "  'delay',\n",
       "  'may',\n",
       "  'or',\n",
       "  'projects',\n",
       "  'said',\n",
       "  'that',\n",
       "  'under',\n",
       "  'way,\"'],\n",
       " ['William'],\n",
       " ['and',\n",
       "  'chief',\n",
       "  'engineering',\n",
       "  'executive',\n",
       "  'Houston-based',\n",
       "  'of',\n",
       "  'the',\n",
       "  'Utt,']]"
      ]
     },
     "execution_count": 7,
     "metadata": {},
     "output_type": "execute_result"
    }
   ],
   "source": [
    "# a)\n",
    "lines=text.splitlines()\n",
    "abc_sorted_lines=[sorted(line.split(), key=str.casefold) for line in lines]\n",
    "# print first 10 results:     \n",
    "abc_sorted_lines[0:10]"
   ]
  },
  {
   "cell_type": "code",
   "execution_count": 8,
   "metadata": {},
   "outputs": [],
   "source": [
    "# b)"
   ]
  },
  {
   "cell_type": "code",
   "execution_count": 9,
   "metadata": {},
   "outputs": [
    {
     "data": {
      "text/plain": [
       "[['Friday',\n",
       "  'KBR',\n",
       "  'downturn',\n",
       "  'economic',\n",
       "  'far',\n",
       "  'global',\n",
       "  'has',\n",
       "  'said',\n",
       "  'so',\n",
       "  'the'],\n",
       " ['had'],\n",
       " ['books',\n",
       "  'business',\n",
       "  'but',\n",
       "  'effect',\n",
       "  'its',\n",
       "  'its',\n",
       "  'little',\n",
       "  'on',\n",
       "  'on',\n",
       "  'projects',\n",
       "  'some',\n",
       "  'warned'],\n",
       " ['be',\n",
       "  'could',\n",
       "  'headwinds',\n",
       "  'if',\n",
       "  'in',\n",
       "  'into',\n",
       "  'jeopardy',\n",
       "  'next',\n",
       "  'persist',\n",
       "  'the',\n",
       "  'year.'],\n",
       " [],\n",
       " ['\"With',\n",
       "  'economic',\n",
       "  'is',\n",
       "  'it',\n",
       "  'outlook',\n",
       "  'possible',\n",
       "  'remaining',\n",
       "  'the',\n",
       "  'uncertain,'],\n",
       " ['that'],\n",
       " ['are',\n",
       "  'cancel',\n",
       "  'customers',\n",
       "  'delay',\n",
       "  'may',\n",
       "  'or',\n",
       "  'projects',\n",
       "  'said',\n",
       "  'that',\n",
       "  'under',\n",
       "  'way,\"'],\n",
       " ['William'],\n",
       " ['Houston-based',\n",
       "  'Utt,',\n",
       "  'and',\n",
       "  'chief',\n",
       "  'engineering',\n",
       "  'executive',\n",
       "  'of',\n",
       "  'the']]"
      ]
     },
     "execution_count": 9,
     "metadata": {},
     "output_type": "execute_result"
    }
   ],
   "source": [
    "ascii_sorted_lines=[sorted(line.split()) for line in lines]\n",
    "ascii_sorted_lines[0:10]"
   ]
  },
  {
   "cell_type": "code",
   "execution_count": 10,
   "metadata": {},
   "outputs": [
    {
     "data": {
      "text/plain": [
       "[['the',\n",
       "  'so',\n",
       "  'said',\n",
       "  'KBR',\n",
       "  'has',\n",
       "  'global',\n",
       "  'Friday',\n",
       "  'far',\n",
       "  'economic',\n",
       "  'downturn'],\n",
       " ['had'],\n",
       " ['warned',\n",
       "  'some',\n",
       "  'projects',\n",
       "  'on',\n",
       "  'on',\n",
       "  'little',\n",
       "  'its',\n",
       "  'its',\n",
       "  'effect',\n",
       "  'but',\n",
       "  'business',\n",
       "  'books'],\n",
       " ['year.',\n",
       "  'the',\n",
       "  'persist',\n",
       "  'next',\n",
       "  'jeopardy',\n",
       "  'into',\n",
       "  'in',\n",
       "  'if',\n",
       "  'headwinds',\n",
       "  'could',\n",
       "  'be'],\n",
       " [],\n",
       " ['uncertain,',\n",
       "  'the',\n",
       "  'remaining',\n",
       "  'possible',\n",
       "  'outlook',\n",
       "  'it',\n",
       "  'is',\n",
       "  'economic',\n",
       "  '\"With'],\n",
       " ['that'],\n",
       " ['way,\"',\n",
       "  'under',\n",
       "  'that',\n",
       "  'said',\n",
       "  'projects',\n",
       "  'or',\n",
       "  'may',\n",
       "  'delay',\n",
       "  'customers',\n",
       "  'cancel',\n",
       "  'are'],\n",
       " ['William'],\n",
       " ['Utt,',\n",
       "  'the',\n",
       "  'of',\n",
       "  'Houston-based',\n",
       "  'executive',\n",
       "  'engineering',\n",
       "  'chief',\n",
       "  'and']]"
      ]
     },
     "execution_count": 10,
     "metadata": {},
     "output_type": "execute_result"
    }
   ],
   "source": [
    "# c)\n",
    "abc_sorted_lines=[sorted(line.split(), key=str.casefold, reverse=True) for line in lines]\n",
    "# print first 10 results:     \n",
    "abc_sorted_lines[0:10]"
   ]
  },
  {
   "cell_type": "code",
   "execution_count": 11,
   "metadata": {},
   "outputs": [
    {
     "data": {
      "text/plain": [
       "[['the',\n",
       "  'so',\n",
       "  'said',\n",
       "  'has',\n",
       "  'global',\n",
       "  'far',\n",
       "  'economic',\n",
       "  'downturn',\n",
       "  'KBR',\n",
       "  'Friday'],\n",
       " ['had'],\n",
       " ['warned',\n",
       "  'some',\n",
       "  'projects',\n",
       "  'on',\n",
       "  'on',\n",
       "  'little',\n",
       "  'its',\n",
       "  'its',\n",
       "  'effect',\n",
       "  'but',\n",
       "  'business',\n",
       "  'books'],\n",
       " ['year.',\n",
       "  'the',\n",
       "  'persist',\n",
       "  'next',\n",
       "  'jeopardy',\n",
       "  'into',\n",
       "  'in',\n",
       "  'if',\n",
       "  'headwinds',\n",
       "  'could',\n",
       "  'be'],\n",
       " [],\n",
       " ['uncertain,',\n",
       "  'the',\n",
       "  'remaining',\n",
       "  'possible',\n",
       "  'outlook',\n",
       "  'it',\n",
       "  'is',\n",
       "  'economic',\n",
       "  '\"With'],\n",
       " ['that'],\n",
       " ['way,\"',\n",
       "  'under',\n",
       "  'that',\n",
       "  'said',\n",
       "  'projects',\n",
       "  'or',\n",
       "  'may',\n",
       "  'delay',\n",
       "  'customers',\n",
       "  'cancel',\n",
       "  'are'],\n",
       " ['William'],\n",
       " ['the',\n",
       "  'of',\n",
       "  'executive',\n",
       "  'engineering',\n",
       "  'chief',\n",
       "  'and',\n",
       "  'Utt,',\n",
       "  'Houston-based']]"
      ]
     },
     "execution_count": 11,
     "metadata": {},
     "output_type": "execute_result"
    }
   ],
   "source": [
    "# d)\n",
    "ascii_sorted_lines=[sorted(line.split(), reverse=True) for line in lines]\n",
    "ascii_sorted_lines[0:10]"
   ]
  },
  {
   "cell_type": "markdown",
   "metadata": {},
   "source": [
    "#### 3. Computing basic statistics\n",
    "\n",
    "a. Find the 50 most common words  \n",
    "b. Find the words in the NYT that end in \"zz\"  \n",
    "c. Count the lines, the words, and the characters  \n",
    "d. How many all uppercase words are there in this NYT file?  \n",
    "e, How many 4-letter words?  \n",
    "f. How many different words are there with no vowels?  \n",
    "g. **tricky:** How many “1 syllable” words are there?  "
   ]
  },
  {
   "cell_type": "code",
   "execution_count": 12,
   "metadata": {},
   "outputs": [
    {
     "data": {
      "text/plain": [
       "[('the', 29333),\n",
       " ('a', 13109),\n",
       " ('to', 12770),\n",
       " ('of', 12521),\n",
       " ('and', 12134),\n",
       " ('in', 11043),\n",
       " ('that', 5675),\n",
       " ('for', 5072),\n",
       " ('on', 4177),\n",
       " ('is', 4176),\n",
       " ('he', 3824),\n",
       " ('with', 3475),\n",
       " ('was', 3405),\n",
       " ('at', 3040),\n",
       " ('as', 2963),\n",
       " ('his', 2761),\n",
       " ('it', 2718),\n",
       " ('have', 2409),\n",
       " ('but', 2397),\n",
       " ('be', 2383),\n",
       " ('by', 2334),\n",
       " ('said', 2204),\n",
       " ('has', 2166),\n",
       " ('are', 2154),\n",
       " ('from', 2069),\n",
       " ('an', 2030),\n",
       " ('not', 2005),\n",
       " ('who', 1785),\n",
       " ('they', 1739),\n",
       " ('this', 1625),\n",
       " ('had', 1565),\n",
       " ('--', 1552),\n",
       " ('their', 1489),\n",
       " ('i', 1424),\n",
       " ('about', 1394),\n",
       " ('or', 1345),\n",
       " ('will', 1340),\n",
       " ('more', 1292),\n",
       " ('were', 1275),\n",
       " ('one', 1201),\n",
       " ('would', 1172),\n",
       " ('new', 1170),\n",
       " ('we', 1151),\n",
       " ('when', 1133),\n",
       " ('been', 1127),\n",
       " ('said.', 1117),\n",
       " ('she', 1108),\n",
       " ('you', 1000),\n",
       " ('if', 975),\n",
       " ('her', 973)]"
      ]
     },
     "execution_count": 12,
     "metadata": {},
     "output_type": "execute_result"
    }
   ],
   "source": [
    "# a)\n",
    "sorted_freq=sorted(freq.items(), key=lambda item: item[1], reverse=True)\n",
    "sorted_freq[0:50]"
   ]
  },
  {
   "cell_type": "code",
   "execution_count": 13,
   "metadata": {},
   "outputs": [
    {
     "data": {
      "text/plain": [
       "['buzz', 'jazz', 'pizazz']"
      ]
     },
     "execution_count": 13,
     "metadata": {},
     "output_type": "execute_result"
    }
   ],
   "source": [
    "# b)\n",
    "[word for word in freq.keys() if word[-2:]==\"zz\"]"
   ]
  },
  {
   "cell_type": "code",
   "execution_count": 14,
   "metadata": {},
   "outputs": [
    {
     "data": {
      "text/plain": [
       "70334"
      ]
     },
     "execution_count": 14,
     "metadata": {},
     "output_type": "execute_result"
    }
   ],
   "source": [
    "# c)\n",
    "len(lines)"
   ]
  },
  {
   "cell_type": "code",
   "execution_count": 15,
   "metadata": {},
   "outputs": [
    {
     "data": {
      "text/plain": [
       "509851"
      ]
     },
     "execution_count": 15,
     "metadata": {},
     "output_type": "execute_result"
    }
   ],
   "source": [
    "len(words)"
   ]
  },
  {
   "cell_type": "code",
   "execution_count": 16,
   "metadata": {},
   "outputs": [
    {
     "data": {
      "text/plain": [
       "3052299"
      ]
     },
     "execution_count": 16,
     "metadata": {},
     "output_type": "execute_result"
    }
   ],
   "source": [
    "len(text)"
   ]
  },
  {
   "cell_type": "code",
   "execution_count": 17,
   "metadata": {},
   "outputs": [
    {
     "data": {
      "text/plain": [
       "6952"
      ]
     },
     "execution_count": 17,
     "metadata": {},
     "output_type": "execute_result"
    }
   ],
   "source": [
    "# d)\n",
    "sum(1 for word in words if word.isupper())"
   ]
  },
  {
   "cell_type": "code",
   "execution_count": 18,
   "metadata": {},
   "outputs": [
    {
     "data": {
      "text/plain": [
       "79536"
      ]
     },
     "execution_count": 18,
     "metadata": {},
     "output_type": "execute_result"
    }
   ],
   "source": [
    "# e)\n",
    "sum(1 for word in words if len(word)==4)"
   ]
  },
  {
   "cell_type": "code",
   "execution_count": 19,
   "metadata": {},
   "outputs": [],
   "source": [
    "# f)\n",
    "str1=\"tree\"\n",
    "str2=\"KGB\"\n",
    "reg=\"[aeiouAEIOU]\"\n",
    "reg2=\"\""
   ]
  },
  {
   "cell_type": "code",
   "execution_count": 20,
   "metadata": {},
   "outputs": [
    {
     "data": {
      "text/plain": [
       "True"
      ]
     },
     "execution_count": 20,
     "metadata": {},
     "output_type": "execute_result"
    }
   ],
   "source": [
    "bool(re.search(reg, str1))"
   ]
  },
  {
   "cell_type": "code",
   "execution_count": 21,
   "metadata": {},
   "outputs": [
    {
     "data": {
      "text/plain": [
       "False"
      ]
     },
     "execution_count": 21,
     "metadata": {},
     "output_type": "execute_result"
    }
   ],
   "source": [
    "bool(re.search(reg, str2))"
   ]
  },
  {
   "cell_type": "code",
   "execution_count": 22,
   "metadata": {},
   "outputs": [
    {
     "data": {
      "text/plain": [
       "3237"
      ]
     },
     "execution_count": 22,
     "metadata": {},
     "output_type": "execute_result"
    }
   ],
   "source": [
    "sum(1 for word in freq.keys() if not re.search(reg, word))"
   ]
  },
  {
   "cell_type": "code",
   "execution_count": 23,
   "metadata": {},
   "outputs": [],
   "source": [
    "# g)"
   ]
  },
  {
   "cell_type": "code",
   "execution_count": 24,
   "metadata": {},
   "outputs": [],
   "source": [
    "def is_one_syllable(word):\n",
    "    bad_regex=\"(ui|ia|aye|oye|uye)\"\n",
    "    if re.search(bad_regex, word):\n",
    "        return 0\n",
    "    regex=\"[aeiouyAEIOUY]+\"\n",
    "    if word.endswith(\"ing\"):\n",
    "        if len(re.findall(regex, word[:-3]))==0: ## return king, bring,\n",
    "           #print(words.upper)\n",
    "            return 1\n",
    "        else: ##  avoid going, seeing\n",
    "            return 0 \n",
    "    \n",
    "    # in words like house, bake,... the e is silent,\n",
    "    # but in words like bubble, kettle... it is not:\n",
    "    if word[-1:-1]=='e' and word[-2:-2] != 'l':\n",
    "        word=word[0:-1]     \n",
    "    if len(re.findall(regex, word))==1:\n",
    "        #print(word)\n",
    "        return 1\n",
    "    else:\n",
    "        return 0"
   ]
  },
  {
   "cell_type": "code",
   "execution_count": 25,
   "metadata": {},
   "outputs": [
    {
     "data": {
      "text/plain": [
       "0"
      ]
     },
     "execution_count": 25,
     "metadata": {},
     "output_type": "execute_result"
    }
   ],
   "source": [
    "is_one_syllable('saying')"
   ]
  },
  {
   "cell_type": "code",
   "execution_count": 26,
   "metadata": {},
   "outputs": [
    {
     "data": {
      "text/plain": [
       "1"
      ]
     },
     "execution_count": 26,
     "metadata": {},
     "output_type": "execute_result"
    }
   ],
   "source": [
    "is_one_syllable('say')"
   ]
  },
  {
   "cell_type": "code",
   "execution_count": 27,
   "metadata": {},
   "outputs": [
    {
     "name": "stdout",
     "output_type": "stream",
     "text": [
      "8941\n"
     ]
    }
   ],
   "source": [
    "count=0    \n",
    "for word in freq.keys():\n",
    "    count+=is_one_syllable(word)\n",
    "print(count)"
   ]
  },
  {
   "cell_type": "markdown",
   "metadata": {},
   "source": [
    "#### 4. Compute ngrams  \n",
    "\n",
    "a. Find the 10 most common bigrams  \n",
    "b. Find the 10 most common trigrams  "
   ]
  },
  {
   "cell_type": "code",
   "execution_count": 28,
   "metadata": {},
   "outputs": [],
   "source": [
    "# a)\n",
    "bigram_dict=dict((\" \".join([word, words[idx+1]]),0) for idx, word in enumerate(words[0:-1]))"
   ]
  },
  {
   "cell_type": "code",
   "execution_count": 29,
   "metadata": {},
   "outputs": [],
   "source": [
    "for idx, word in enumerate(words[0:-1]):\n",
    "    bigram=\" \".join([word, words[idx+1]])\n",
    "    bigram_dict[bigram]+=1"
   ]
  },
  {
   "cell_type": "code",
   "execution_count": 30,
   "metadata": {},
   "outputs": [
    {
     "data": {
      "text/plain": [
       "[('of the', 3091),\n",
       " ('in the', 2499),\n",
       " ('to the', 1171),\n",
       " ('on the', 1082),\n",
       " ('for the', 882),\n",
       " ('and the', 803),\n",
       " ('in a', 751),\n",
       " ('to be', 709),\n",
       " ('at the', 675),\n",
       " ('with the', 561)]"
      ]
     },
     "execution_count": 30,
     "metadata": {},
     "output_type": "execute_result"
    }
   ],
   "source": [
    "# print top 10 results:        \n",
    "sorted(bigram_dict.items(), key=lambda x:x[1], reverse=True)[0:10] "
   ]
  },
  {
   "cell_type": "code",
   "execution_count": 31,
   "metadata": {},
   "outputs": [],
   "source": [
    "# b) \n",
    "trigram_dict=dict((\" \".join([word, words[idx+1], words[idx+2]]),0) for idx, word in enumerate(words[0:-2]))"
   ]
  },
  {
   "cell_type": "code",
   "execution_count": 32,
   "metadata": {},
   "outputs": [],
   "source": [
    "for idx, word in enumerate(words[0:-2]):\n",
    "    trigram=\" \".join([word, words[idx+1], words[idx+2]])\n",
    "    trigram_dict[trigram]+=1"
   ]
  },
  {
   "cell_type": "code",
   "execution_count": 33,
   "metadata": {},
   "outputs": [
    {
     "data": {
      "text/plain": [
       "[('one of the', 191),\n",
       " ('a lot of', 169),\n",
       " ('the United States', 112),\n",
       " ('going to be', 91),\n",
       " ('can be reached', 91),\n",
       " ('as well as', 90),\n",
       " ('be reached at', 90),\n",
       " ('the end of', 89),\n",
       " ('to be a', 85),\n",
       " ('the University of', 83)]"
      ]
     },
     "execution_count": 33,
     "metadata": {},
     "output_type": "execute_result"
    }
   ],
   "source": [
    "# print top 10 results:        \n",
    "sorted(trigram_dict.items(), key=lambda x:x[1], reverse=True)[0:10] "
   ]
  },
  {
   "cell_type": "markdown",
   "metadata": {},
   "source": [
    "#### 5. Make a Concordance\n",
    "\n",
    "a. Create a concordance display for an arbitrary word. See the example below  \n",
    "\n",
    "![](../../Data/figs/Sample-concordance-lines-of-actually.png)"
   ]
  },
  {
   "cell_type": "code",
   "execution_count": 34,
   "metadata": {},
   "outputs": [],
   "source": [
    "# a) \n",
    "def show_concordance(search_term, N):\n",
    "    end=len(words)\n",
    "    concordance_list=[(words[max(0, idx-N):idx],words[idx:min(idx+N, end)]) for idx, word in enumerate(words) if word == search_term]\n",
    "  \n",
    "    print('{:>2}{:>40}'.format('N', 'Concordance' ))\n",
    "    for idx, item in enumerate(concordance_list): \n",
    "        \n",
    "        pretext=\" \".join(item[0])\n",
    "        search_term=item[1][0]\n",
    "        context=\" \".join(item[1][1:])\n",
    "        \n",
    "        print(f'{idx:>2} {pretext:>{N*10}} {search_term:^20} {context:<20}')\n",
    "        "
   ]
  },
  {
   "cell_type": "code",
   "execution_count": 35,
   "metadata": {},
   "outputs": [
    {
     "name": "stdout",
     "output_type": "stream",
     "text": [
      " N                             Concordance\n",
      " 0                                           KBR said        Friday        the global economic downturn\n",
      " 1                           Gulf of Mexico. KBR said        Friday        the global economic downturn\n",
      " 2                          Fund mailed out checks on        Friday        to shareholders of its\n",
      " 3                         said. The checks mailed on        Friday        totaled $26 billion. An\n",
      " 4                           adviser to the fund said        Friday        that it expected to \n",
      " 5                            a serious legal blow on        Friday        when a New York     \n",
      " 6                            said in an interview on        Friday        that he had decided \n",
      " 7                     of State. That balloting ended        Friday        afternoon with a majority\n",
      " 8                             the helm at CentCom on        Friday        in an hourlong ceremony\n",
      " 9                 right, a former Lightning, entered        Friday        tied for the league \n",
      "10                          the Supreme Court. But on        Friday        afternoon, when the soprano\n",
      "11                     luncheon was Levine, who spent        Friday        afternoon in rehearsals for\n",
      "12                     awards ceremony and concert on        Friday        evening, with Placido Domingo\n",
      "13                 Sunday), and began performances on        Friday        night for a run     \n",
      "14                        mass e-mail message sent on        Friday        afternoon, Smith said she\n",
      "15                   York Road Runners Club, recalled        Friday        that it was not     \n",
      "16                        a funeral service at 11a.m.        Friday        at Calvary Baptist Church.\n",
      "17                       to the Philadelphia 76ers on        Friday        night at the Wachovia\n",
      "18                       out there for four minutes.\"        Friday        was the next step   \n",
      "19                        a funeral service at 11a.m.        Friday        at Calvary Baptist Church.\n",
      "20                                will make for a fun        Friday        night. Why we like  \n",
      "21                               she said. On a rainy        Friday        evening in early August,\n",
      "22                  particularly damaging. On a rainy        Friday        evening in early August,\n",
      "23                          four-hour line to vote on        Friday        \"People are hungry for\n",
      "24                         a Field Poll released last        Friday        showed 49 percent against\n",
      "25                            on the inactive list on        Friday        night, and Marbury has\n",
      "26                       does at Homestead. Gray said        Friday        that he thought that\n",
      "27               residential district of Hayatabad on        Friday        morning, Aziz Shams, the\n",
      "28                     The lawsuit was first reported        Friday        on the Web site     \n",
      "29              appointed the temporary receiver late        Friday        and set a hearing   \n",
      "30                            10 p.m. and midnight on        Friday        or Saturday nights. \"Great\n",
      "31                   raping a 74-year-old woman. This        Friday        marks the 20th anniversary\n",
      "32                                had been made as of        Friday        afternoon to the Election\n",
      "33                              Sox Hall of Fame next        Friday        night; 4. I'd love  \n",
      "34                     price as serious bidding began        Friday        morning on the Web  \n",
      "35                            year and as recently as        Friday        that it was not     \n",
      "36              largest programs for orphans, decided        Friday        that it could no    \n",
      "37                     2. The Lancaster episode aired        Friday        and will be available\n",
      "38                     be available online until next        Friday        at www.bbc.co.uk/radio2/ documentaries/judygarland.shtml. Glen\n",
      "39                            that was driven home on        Friday        night when he went  \n",
      "40                  presidential campaign in 2000. On        Friday        McCain marveled to aides\n",
      "41                       the case informed Gibbons on        Friday        that no charges would\n",
      "42                            year and as recently as        Friday        that it was not     \n",
      "43                            that was driven home on        Friday        night when he went  \n",
      "44                            local radio host say on        Friday        that the open house \n",
      "45                      swiftly working the rope line        Friday        at an apple orchard \n",
      "46                 I mean Ohio,\" Aigner-Treworgy said        Friday        afternoon. \"I used to\n",
      "47                     of drama lately,\" Skelton said        Friday        as he was shooting  \n",
      "48                       the case informed Gibbons on        Friday        that no charges would\n",
      "49                         bishop. We talked with her        Friday        as she prepared for \n",
      "50         deteriorating situation in Afghanistan, on        Friday        took over Central Command\n",
      "51                       \"Rock 'n' Roll,\" which opens        Friday        at the Huntington Theatre.\n",
      "52                      at the Treasury Department on        Friday        as the children of  \n",
      "53                          levity at the Treasury on        Friday        as the children of  \n",
      "54                          levity at the Treasury on        Friday        as the children of  \n",
      "55                      at the Treasury Department on        Friday        as the children of  \n",
      "56                                 in his old job. On        Friday        evening, Lambright was lugging\n",
      "57                    stimulus program after a report        Friday        that Spain's gross domestic\n",
      "58                             a local league game on        Friday        night. \"We need someone\n",
      "59                       about the economic crisis on        Friday        night, she extended a\n",
      "60         deteriorating situation in Afghanistan, on        Friday        took over Central Command\n",
      "61                            drive him to the team's        Friday        night spaghetti dinners. \"He\n",
      "62                            R. Maltese of Queens on        Friday        and has recorded automated\n"
     ]
    }
   ],
   "source": [
    "show_concordance('Friday', 5)"
   ]
  },
  {
   "cell_type": "markdown",
   "metadata": {},
   "source": [
    "***"
   ]
  },
  {
   "cell_type": "markdown",
   "metadata": {
    "tags": []
   },
   "source": [
    "##### Extra Credit – Secret Message\n",
    "+ The answers to the extra credit exercises will reveal a secret message.  \n",
    "+ We will be working with the following text file for these exercises:  \n",
    "[Link to Text](https://web.stanford.edu/class/cs124/lec/secret_ec.txt)  \n",
    "(No starter code in the Extra Credit)  "
   ]
  },
  {
   "cell_type": "code",
   "execution_count": 36,
   "metadata": {},
   "outputs": [],
   "source": [
    "import requests\n",
    "\n",
    "response=requests.get('https://web.stanford.edu/class/cs124/lec/secret_ec.txt')\n",
    "text2=response.text\n",
    "words2=text2.split()"
   ]
  },
  {
   "cell_type": "markdown",
   "metadata": {
    "tags": []
   },
   "source": [
    "##### Extra Credit Exercise 1\n",
    "• Find the 2 most common words in secret_ec.txt containing the letter e.  \n",
    "• Your answer will correspond to the first two words of the secret message.  "
   ]
  },
  {
   "cell_type": "code",
   "execution_count": 37,
   "metadata": {},
   "outputs": [
    {
     "data": {
      "text/plain": [
       "'the best'"
      ]
     },
     "execution_count": 37,
     "metadata": {},
     "output_type": "execute_result"
    }
   ],
   "source": [
    "with_E=sorted([(word,words2.count(word)) for word in set(words2) if 'e' in word], key= lambda w: w[1], reverse=True)\n",
    "res1=list(zip(*with_E[0:2]))[0]\n",
    "secret1=\" \".join(res1)\n",
    "secret1"
   ]
  },
  {
   "cell_type": "markdown",
   "metadata": {},
   "source": [
    "##### Extra Credit Exercise 2\n",
    "• Find the 2 most common bigrams in secret_ec.txt where the second word in the bigram ends with a consonant.  \n",
    "• Your answer will correspond to the next four words of the secret message.  "
   ]
  },
  {
   "cell_type": "code",
   "execution_count": 38,
   "metadata": {},
   "outputs": [
    {
     "data": {
      "text/plain": [
       "'part about unix is'"
      ]
     },
     "execution_count": 38,
     "metadata": {},
     "output_type": "execute_result"
    }
   ],
   "source": [
    "vowels=['a','e', 'i', 'o', 'u']\n",
    "bigrams_consonant=[\" \".join([word, words2[i+1]]) for i, word in enumerate(words2[0:-1]) if words2[i+1][-1] not in vowels]\n",
    "bigrams_consonant=sorted([[bigram,bigrams_consonant.count(bigram)] for bigram in set(bigrams_consonant)], key=lambda b: b[1], reverse=True)\n",
    "res2=list(zip(*bigrams_consonant[0:2]))[0]\n",
    "secret2=\" \".join(res2)\n",
    "secret2"
   ]
  },
  {
   "cell_type": "markdown",
   "metadata": {},
   "source": [
    "##### Extra Credit Exercise 3\n",
    "• Find all 5-letter-long words that only appear once in secret_ec.txt.   \n",
    "• Concatenate your result. This will be the final word of the secret message.  \n",
    "\n",
    "What is the secret message?  "
   ]
  },
  {
   "cell_type": "code",
   "execution_count": 39,
   "metadata": {},
   "outputs": [
    {
     "data": {
      "text/plain": [
       "'everything'"
      ]
     },
     "execution_count": 39,
     "metadata": {},
     "output_type": "execute_result"
    }
   ],
   "source": [
    "five_letter=[word for word in words2 if len(word)==5 and words2.count(word)==1]\n",
    "secret3=\"\".join(five_letter)\n",
    "secret3"
   ]
  },
  {
   "cell_type": "code",
   "execution_count": 40,
   "metadata": {},
   "outputs": [
    {
     "data": {
      "text/plain": [
       "'the best part about unix is everything'"
      ]
     },
     "execution_count": 40,
     "metadata": {},
     "output_type": "execute_result"
    }
   ],
   "source": [
    "secret=\" \".join([secret1, secret2, secret3])\n",
    "secret"
   ]
  },
  {
   "cell_type": "code",
   "execution_count": null,
   "metadata": {},
   "outputs": [],
   "source": []
  }
 ],
 "metadata": {
  "kernelspec": {
   "display_name": "Python 3 (ipykernel)",
   "language": "python",
   "name": "python3"
  },
  "language_info": {
   "codemirror_mode": {
    "name": "ipython",
    "version": 3
   },
   "file_extension": ".py",
   "mimetype": "text/x-python",
   "name": "python",
   "nbconvert_exporter": "python",
   "pygments_lexer": "ipython3",
   "version": "3.9.7"
  }
 },
 "nbformat": 4,
 "nbformat_minor": 4
}
